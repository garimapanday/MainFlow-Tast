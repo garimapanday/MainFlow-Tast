{
  "nbformat": 4,
  "nbformat_minor": 0,
  "metadata": {
    "colab": {
      "private_outputs": true,
      "provenance": []
    },
    "kernelspec": {
      "name": "python3",
      "display_name": "Python 3"
    },
    "language_info": {
      "name": "python"
    }
  },
  "cells": [
    {
      "cell_type": "code",
      "execution_count": null,
      "metadata": {
        "id": "k7Xmf5RcgYDz"
      },
      "outputs": [],
      "source": [
        "#Import the libraries\n",
        "import pandas as pd\n",
        "import matplotlib.pyplot as plt\n",
        "import seaborn as sns"
      ]
    },
    {
      "cell_type": "markdown",
      "source": [
        "# **Step 1: Loading the dataset**"
      ],
      "metadata": {
        "id": "tcsKsiinlxqt"
      }
    },
    {
      "cell_type": "code",
      "source": [
        "# Download the dataset\n",
        "data = \"/content/drive/MyDrive/student-mat.csv\"\n",
        "# Load the data into datafram\n",
        "sd_df = pd.read_csv('/content/drive/MyDrive/student-mat.csv',delimiter=';')\n"
      ],
      "metadata": {
        "id": "dxlQP-nzjN5i"
      },
      "execution_count": null,
      "outputs": []
    },
    {
      "cell_type": "markdown",
      "source": [
        "The Dataset is succesfully loaded into a Pandas dataframe."
      ],
      "metadata": {
        "id": "rT8BpLoFmJn1"
      }
    },
    {
      "cell_type": "markdown",
      "source": [
        "# **Step 2: Data exploration**"
      ],
      "metadata": {
        "id": "Q3x-nnammGKa"
      }
    },
    {
      "cell_type": "code",
      "source": [
        "# Display the dataset\n",
        "print(sd_df.head(5))\n"
      ],
      "metadata": {
        "id": "iNMFGX4zj2MV"
      },
      "execution_count": null,
      "outputs": []
    },
    {
      "cell_type": "markdown",
      "source": [
        "The first five rows of dataset are displayed."
      ],
      "metadata": {
        "id": "LyNQXutpRnWK"
      }
    },
    {
      "cell_type": "code",
      "source": [
        "# Check data types and missing values\n",
        "sd_df.info()\n"
      ],
      "metadata": {
        "id": "wI7uJ1Dwkpux"
      },
      "execution_count": null,
      "outputs": []
    },
    {
      "cell_type": "markdown",
      "source": [
        "Data types and missing values are checked confirming that there are no missing values."
      ],
      "metadata": {
        "id": "1accwle-RyNX"
      }
    },
    {
      "cell_type": "markdown",
      "source": [
        "# **Step 3: Data Cleaning**"
      ],
      "metadata": {
        "id": "pqouHQPdZOB4"
      }
    },
    {
      "cell_type": "code",
      "source": [
        "# Checked the missing values\n",
        "sd_df.isnull().sum()"
      ],
      "metadata": {
        "id": "fcBIE1VKoIwj"
      },
      "execution_count": null,
      "outputs": []
    },
    {
      "cell_type": "markdown",
      "source": [
        "The dataset is checked for missing values (none found)."
      ],
      "metadata": {
        "id": "XS9HqN4JZxvZ"
      }
    },
    {
      "cell_type": "code",
      "source": [
        "# Remove duplicates\n",
        "sd_df.drop_duplicates()"
      ],
      "metadata": {
        "id": "Hu6-iZBiob5H"
      },
      "execution_count": null,
      "outputs": []
    },
    {
      "cell_type": "markdown",
      "source": [
        "Duplicate entries are removed."
      ],
      "metadata": {
        "id": "qqNKrPKASsxE"
      }
    },
    {
      "cell_type": "markdown",
      "source": [
        "# **Step 4: Data Analysis Questions**\n",
        "**1. What is the average score in math (G3**)?\n",
        "  \n",
        "\n",
        "\n"
      ],
      "metadata": {
        "id": "3hWvvhtQpbo_"
      }
    },
    {
      "cell_type": "code",
      "source": [
        " average_score = sd_df['G3'].mean()\n",
        " print(\"Average score in math :\",average_score)"
      ],
      "metadata": {
        "id": "6Ui0TrTEotX-"
      },
      "execution_count": null,
      "outputs": []
    },
    {
      "cell_type": "markdown",
      "source": [
        "**2. How many students scored above 15 in their final grade (G3)?.**"
      ],
      "metadata": {
        "id": "suGbJzJmhk3L"
      }
    },
    {
      "cell_type": "code",
      "source": [
        "num_above_above_15 = len(sd_df[sd_df['G3']>15])\n",
        "print(\"Number of student scoring above 15 in G3:\",num_above_above_15)"
      ],
      "metadata": {
        "id": "i8pFXXpbiflp"
      },
      "execution_count": null,
      "outputs": []
    },
    {
      "cell_type": "markdown",
      "source": [
        "**3. Is there a correlation between study time (study time) and the final grade (G3)?**"
      ],
      "metadata": {
        "id": "KAdgacvF5kRW"
      }
    },
    {
      "cell_type": "code",
      "source": [
        "correlation = sd_df[\"studytime\"].corr(sd_df[\"G3\"])\n",
        "print(\"correlation between study time and final grade:\",correlation)"
      ],
      "metadata": {
        "id": "U3zbXpFm5usi"
      },
      "execution_count": null,
      "outputs": []
    },
    {
      "cell_type": "markdown",
      "source": [
        "**4. Which gender has a higher average final grade (G3)?**"
      ],
      "metadata": {
        "id": "j0MpUOKo_8-I"
      }
    },
    {
      "cell_type": "code",
      "source": [
        "Gender_avg_G3 = sd_df.groupby(\"sex\")[\"G3\"].mean()\n",
        "print(Gender_avg_G3)"
      ],
      "metadata": {
        "id": "2IeFW76bAJM2"
      },
      "execution_count": null,
      "outputs": []
    },
    {
      "cell_type": "markdown",
      "source": [
        "# **Step 5: Data Visualization**"
      ],
      "metadata": {
        "id": "vZQTnTGaMVfY"
      }
    },
    {
      "cell_type": "markdown",
      "source": [
        "### **1. Histogram**"
      ],
      "metadata": {
        "id": "CaoUqEvISlQ3"
      }
    },
    {
      "cell_type": "code",
      "source": [
        "# Histogra of final grades\n",
        "\n",
        "plt.figure(figsize=(8,6))\n",
        "plt.hist(sd_df[\"G3\"],bins=20,color=\"blue\",edgecolor=\"black\")\n",
        "plt.title(\"Distribution of final grades (G3)\")\n",
        "plt.xlabel(\"final grade\")\n",
        "plt.ylabel(\"Number of Students\")\n",
        "plt.show()"
      ],
      "metadata": {
        "id": "1pcSJLQoMtjc"
      },
      "execution_count": null,
      "outputs": []
    },
    {
      "cell_type": "markdown",
      "source": [
        "## **2. Scatter plot**"
      ],
      "metadata": {
        "id": "DPRDTQDiSw2t"
      }
    },
    {
      "cell_type": "code",
      "source": [
        "# Scatter plot of study time vs.final grade\n",
        "\n",
        "plt.figure(figsize=(8,6))\n",
        "sns.scatterplot(data=sd_df,x=\"studytime\",y=\"G3\",hue=\"sex\")\n",
        "plt.title(\"study time vs. final grade\")\n",
        "plt.xlabel(\"study time\")\n",
        "plt.ylabel(\"final grade\")\n",
        "plt.show()\n"
      ],
      "metadata": {
        "id": "gg-H6nROQGlR"
      },
      "execution_count": null,
      "outputs": []
    },
    {
      "cell_type": "markdown",
      "source": [
        "## **3. Bar chart**"
      ],
      "metadata": {
        "id": "xY3kJUT2S7nn"
      }
    },
    {
      "cell_type": "code",
      "source": [
        "# Bar chart of comparing the average scores by gender\n",
        "\n",
        "plt.figure(figsize=(8,6))\n",
        "Gender_avg_G3.plot(kind=\"bar\",color=[\"blue\",\"pink\"])\n",
        "plt.title(\"Comparing the average scores by gender\")\n",
        "plt.xlabel(\"Gender\")\n",
        "plt.ylabel(\"Average final grade\")\n",
        "plt.show()\n",
        "\n"
      ],
      "metadata": {
        "id": "elpIyPJtTClH"
      },
      "execution_count": null,
      "outputs": []
    }
  ]
}